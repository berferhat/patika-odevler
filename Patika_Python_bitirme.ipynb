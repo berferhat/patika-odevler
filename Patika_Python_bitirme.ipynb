mList = [[1,'a',['cat'],2],[[[3]],'dog'],4,5]
bos = []


def duz(xx):
    
    for i in range(len(xx)):
        if type(xx[i]) == list:
            duz(xx[i])
        else:
            bos.append(xx[i])
            
    return bos
duz(mList)

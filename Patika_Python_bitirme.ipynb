{
 "cells": [
  {
   "cell_type": "code",
   "execution_count": 1,
   "id": "9b916d6c",
   "metadata": {},
   "outputs": [
    {
     "data": {
      "text/plain": [
       "[1, 'a', 'cat', 2, 3, 'dog', 4, 5, 333, 3, 'qweqweqwe']"
      ]
     },
     "execution_count": 1,
     "metadata": {},
     "output_type": "execute_result"
    }
   ],
   "source": [
    "mList = [[1,'a',['cat'],2],[[[3]],'dog'],4,5,333,[[[3]], \"qweqweqwe\"]]\n",
    "bos = []\n",
    "\n",
    "\n",
    "def duz(xx):\n",
    "    \n",
    "    for i in range(len(xx)):\n",
    "        if type(xx[i]) == list:\n",
    "            duz(xx[i])\n",
    "        else:\n",
    "            bos.append(xx[i])\n",
    "            \n",
    "    return bos\n",
    "duz(mList)"
   ]
  },
  {
   "cell_type": "code",
   "execution_count": 3,
   "id": "f1eb7442",
   "metadata": {},
   "outputs": [],
   "source": []
  },
  {
   "cell_type": "code",
   "execution_count": null,
   "id": "28afba54",
   "metadata": {},
   "outputs": [],
   "source": []
  }
 ],
 "metadata": {
  "kernelspec": {
   "display_name": "Python 3",
   "language": "python",
   "name": "python3"
  },
  "language_info": {
   "codemirror_mode": {
    "name": "ipython",
    "version": 3
   },
   "file_extension": ".py",
   "mimetype": "text/x-python",
   "name": "python",
   "nbconvert_exporter": "python",
   "pygments_lexer": "ipython3",
   "version": "3.8.8"
  }
 },
 "nbformat": 4,
 "nbformat_minor": 5
}

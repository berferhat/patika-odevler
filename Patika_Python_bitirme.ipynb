{
 "cells": [
  {
   "cell_type": "code",
   "execution_count": 2,
   "id": "9b916d6c",
   "metadata": {},
   "outputs": [
    {
     "ename": "AttributeError",
     "evalue": "'NoneType' object has no attribute 'find_all'",
     "output_type": "error",
     "traceback": [
      "\u001b[1;31m---------------------------------------------------------------------------\u001b[0m",
      "\u001b[1;31mAttributeError\u001b[0m                            Traceback (most recent call last)",
      "\u001b[1;32m<ipython-input-2-c2f771287d1e>\u001b[0m in \u001b[0;36m<module>\u001b[1;34m\u001b[0m\n\u001b[0;32m     16\u001b[0m \u001b[1;33m\u001b[0m\u001b[0m\n\u001b[0;32m     17\u001b[0m \u001b[1;31m#hava durumunlarının olduğu satırların hepsini aldık\u001b[0m\u001b[1;33m\u001b[0m\u001b[1;33m\u001b[0m\u001b[1;33m\u001b[0m\u001b[0m\n\u001b[1;32m---> 18\u001b[1;33m \u001b[0mwet_s\u001b[0m \u001b[1;33m=\u001b[0m \u001b[0mwet_column\u001b[0m\u001b[1;33m.\u001b[0m\u001b[0mfind_all\u001b[0m\u001b[1;33m(\u001b[0m\u001b[1;34m\"details\"\u001b[0m\u001b[1;33m,\u001b[0m\u001b[0mattrs\u001b[0m\u001b[1;33m=\u001b[0m\u001b[1;33m{\u001b[0m\u001b[1;34m\"class\"\u001b[0m\u001b[1;33m:\u001b[0m\u001b[1;34m\"Disclosure--themeList--25Q0H\"\u001b[0m\u001b[1;33m}\u001b[0m\u001b[1;33m)\u001b[0m\u001b[1;33m\u001b[0m\u001b[1;33m\u001b[0m\u001b[0m\n\u001b[0m\u001b[0;32m     19\u001b[0m \u001b[1;33m\u001b[0m\u001b[0m\n\u001b[0;32m     20\u001b[0m \u001b[0mhava_durumu_list\u001b[0m \u001b[1;33m=\u001b[0m \u001b[1;33m[\u001b[0m\u001b[1;33m]\u001b[0m\u001b[1;33m\u001b[0m\u001b[1;33m\u001b[0m\u001b[0m\n",
      "\u001b[1;31mAttributeError\u001b[0m: 'NoneType' object has no attribute 'find_all'"
     ]
    }
   ],
   "source": [
    "# gerekli kütüphaneleri import ediyoruz\n",
    "import requests\n",
    "from bs4 import BeautifulSoup\n",
    "# kod sadece 10 günlük kısım için yazılmıştır. o yüzden link verirken sadece 10 günlük kısmın linkini verin.\n",
    "\n",
    "# gitmek istediğimiz link \n",
    "\n",
    "url = \"https://weather.com/tr-TR/weather/tenday/l/33d1e415eb66f3e1ab35c3add45fccf4512715d329edbd91c806a6957e123b49\"\n",
    "\n",
    "\n",
    "r = requests.get(url)\n",
    "soup = BeautifulSoup(r.content, \"lxml\")\n",
    "\n",
    "# gerekli olan hava durumunun olduğu sütunu filtreleyerek aldık\n",
    "wet_column = soup.find(\"div\",attrs={\"class\":\"DailyForecast--DisclosureList--msYIJ\"})\n",
    "\n",
    "#hava durumunlarının olduğu satırların hepsini aldık\n",
    "wet_s = wet_column.find_all(\"details\",attrs={\"class\":\"Disclosure--themeList--25Q0H\"})\n",
    "\n",
    "hava_durumu_list = []\n",
    "\n",
    "for wet in wet_s:\n",
    "    # değişkenlerimizi tanımladık\n",
    "    day = \"\"\n",
    "    temperature = \"\"\n",
    "    icon = \"\"\n",
    "    precip_title = \"\"\n",
    "    precip_percent = \"\"\n",
    "    precip = \"\"\n",
    "    wind_title = \"\"\n",
    "    wind_percant = \"\"\n",
    "    wind = \"\"\n",
    "    \n",
    "    # günü alıyoruz\n",
    "    day = wet.find(\"h2\",attrs={\"data-testid\":\"daypartName\"}).text.strip()\n",
    "    \n",
    "    # dereceyi alıyoruz\n",
    "    temperature = wet.find(\"div\",attrs={\"data-testid\":\"detailsTemperature\"}).text.strip()\n",
    "    \n",
    "    # güneşli vs o durumu alıyoruz\n",
    "    icon = wet.find(\"div\",attrs={\"data-testid\":\"wxIcon\"}).title.text.strip()\n",
    "    \n",
    "    # yağmur durumunu alıyoruz\n",
    "    precip_title = wet.find(\"div\",attrs={\"data-testid\":\"Precip\"}).title.text.strip() \n",
    "    precip_percent = wet.find(\"div\",attrs={\"data-testid\":\"Precip\"}).find(\"span\",attrs={\"data-testid\":\"PercentageValue\"}).text.strip()\n",
    "    precip = precip_title+\":\"+precip_percent \n",
    "    \n",
    "    # rüzgar durumunu alıyoruz\n",
    "    wind_title = wet.find(\"div\",attrs={\"data-testid\":\"wind\"}).title.text.strip()\n",
    "    wind_percant = wet.find(\"div\",attrs={\"data-testid\":\"wind\"}).find(\"span\",attrs={\"data-testid\":\"Wind\"}).text.strip()\n",
    "    wind = wind_title+\":\"+wind_percant\n",
    "    \n",
    "    \"\"\"\n",
    "    print(day)\n",
    "    print(temperature)\n",
    "    print(icon)\n",
    "    print(precip)\n",
    "    print(wind)\n",
    "    \"\"\"\n",
    "    hava_durumu_list.append([day,temperature,icon,precip,wind])\n",
    "    #print(\"***\")\n",
    "\n",
    "print(hava_durumu_list)"
   ]
  },
  {
   "cell_type": "code",
   "execution_count": 3,
   "id": "f1eb7442",
   "metadata": {},
   "outputs": [],
   "source": [
    "[['Bu gece', '--/24°', 'Mostly Clear Night', 'Rain:5%', 'Wind:DKD 14 km/s'], \n",
    " ['Cmt 31', '35°/23°', 'Sunny', 'Rain:5%', 'Wind:DKD 18 km/s'], \n",
    " ['Paz 01', '35°/23°', 'Sunny', 'Rain:10%', 'Wind:KD 17 km/s'], \n",
    " ['Pzt 02', '35°/23°', 'Sunny', 'Rain:5%', 'Wind:D 10 km/s'], \n",
    " ['Sal 03', '35°/24°', 'Sunny', 'Rain:3%', 'Wind:KKD 20 km/s'], \n",
    " ['Çar 04', '34°/24°', 'Sunny', 'Rain:10%', 'Wind:KD 18 km/s'], \n",
    " ['Per 05', '34°/25°', 'Sunny', 'Rain:3%', 'Wind:KD 14 km/s'],\n",
    " ['Cum 06', '33°/24°', 'Sunny', 'Rain:10%', 'Wind:KKD 12 km/s'], \n",
    " ['Cmt 07', '33°/24°', 'Sunny', 'Rain:4%', 'Wind:KKD 13 km/s'], \n",
    " ['Paz 08', '31°/23°', 'Sunny', 'Rain:6%', 'Wind:KKD 19 km/s'], \n",
    " ['Pzt 09', '31°/23°', 'Sunny', 'Rain:5%', 'Wind:KD 21 km/s'], \n",
    " ['Sal 10', '31°/23°', 'Sunny', 'Rain:3%', 'Wind:KD 23 km/s'], \n",
    " ['Çar 11', '31°/23°', 'Sunny', 'Rain:3%', 'Wind:KD 24 km/s'], \n",
    " ['Per 12', '31°/23°', 'Sunny', 'Rain:5%', 'Wind:KD 23 km/s'], \n",
    " ['Cum 13', '30°/23°', 'Sunny', 'Rain:3%', 'Wind:KD 22 km/s']]"
   ]
  },
  {
   "cell_type": "code",
   "execution_count": null,
   "id": "28afba54",
   "metadata": {},
   "outputs": [],
   "source": []
  }
 ],
 "metadata": {
  "kernelspec": {
   "display_name": "Python 3",
   "language": "python",
   "name": "python3"
  },
  "language_info": {
   "codemirror_mode": {
    "name": "ipython",
    "version": 3
   },
   "file_extension": ".py",
   "mimetype": "text/x-python",
   "name": "python",
   "nbconvert_exporter": "python",
   "pygments_lexer": "ipython3",
   "version": "3.8.8"
  }
 },
 "nbformat": 4,
 "nbformat_minor": 5
}
